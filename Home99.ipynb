{
 "cells": [
  {
   "cell_type": "code",
   "execution_count": 15,
   "metadata": {},
   "outputs": [],
   "source": [
    "from bs4 import BeautifulSoup"
   ]
  },
  {
   "cell_type": "code",
   "execution_count": 36,
   "metadata": {},
   "outputs": [],
   "source": [
    "import requests\n",
    "from bs4 import BeautifulSoup\n",
    "import smtplib\n",
    "import time\n",
    "import csv"
   ]
  },
  {
   "cell_type": "code",
   "execution_count": 39,
   "metadata": {},
   "outputs": [],
   "source": [
    "headers = { 'User-Agent': 'Mozilla/5.0 (Windows NT 10.0; Win64; x64) AppleWebKit/537.36 (KHTML, like Gecko) Chrome/76.0.3809.132 Safari/537.36'}\n"
   ]
  },
  {
   "cell_type": "code",
   "execution_count": 43,
   "metadata": {},
   "outputs": [],
   "source": [
    "from bs4 import BeautifulSoup\n",
    "from requests import get\n",
    "import pandas as pd\n",
    "import itertools\n",
    "import matplotlib.pyplot as plt\n",
    "import seaborn as sns\n",
    "sns.set()"
   ]
  },
  {
   "cell_type": "code",
   "execution_count": 1,
   "metadata": {},
   "outputs": [],
   "source": [
    "import requests\n",
    "import urllib.request\n",
    "import time\n",
    "from bs4 import BeautifulSoup"
   ]
  },
  {
   "cell_type": "code",
   "execution_count": 58,
   "metadata": {},
   "outputs": [],
   "source": [
    "url = 'https://www.99acres.com/search/property/buy/residential-all/vijay-nagar-indore?search_type=QS&refSection=GNB&search_location=HP&lstAcn=HP_R&lstAcnId=0&src=CLUSTER&preference=S&selected_tab=1&city=142&res_com=R&property_type=R&isvoicesearch=N&keyword_suggest=Vijay%20Nagar%20%2C%20Indore%3B&fullSelectedSuggestions=Vijay%20Nagar%20%2C%20Indore&strEntityMap=W3sidHlwZSI6ImxvY2FsaXR5In0seyIxIjpbIlZpamF5IE5hZ2FyICwgSW5kb3JlIiwiQ0lUWV8xNDIsIExPQ0FMSVRZXzk0MzgsIFBSRUZFUkVOQ0VfUywgUkVTQ09NX1IiXX1d&texttypedtillsuggestion=indore&refine_results=Y&Refine_Localities=Refine%20Localities&action=%2Fdo%2Fquicksearch%2Fsearch&suggestion=CITY_142%2C%20LOCALITY_9438%2C%20PREFERENCE_S%2C%20RESCOM_R&searchform=1&locality=9438&price_min=null&price_max=null'\n",
    "response = requests.get(url)"
   ]
  },
  {
   "cell_type": "code",
   "execution_count": 59,
   "metadata": {},
   "outputs": [
    {
     "data": {
      "text/plain": [
       "<Response [200]>"
      ]
     },
     "execution_count": 59,
     "metadata": {},
     "output_type": "execute_result"
    }
   ],
   "source": [
    "response"
   ]
  },
  {
   "cell_type": "code",
   "execution_count": 60,
   "metadata": {},
   "outputs": [],
   "source": [
    "soup = BeautifulSoup(response.content, 'html.parser')"
   ]
  },
  {
   "cell_type": "code",
   "execution_count": 64,
   "metadata": {},
   "outputs": [],
   "source": [
    "import requests \n",
    "URL = \"https://www.99acres.com/search/property/buy/residential-all/vijay-nagar-indore?search_type=QS&refSection=GNB&search_location=HP&lstAcn=HP_R&lstAcnId=0&src=CLUSTER&preference=S&selected_tab=1&city=142&res_com=R&property_type=R&isvoicesearch=N&keyword_suggest=Vijay%20Nagar%20%2C%20Indore%3B&fullSelectedSuggestions=Vijay%20Nagar%20%2C%20Indore&strEntityMap=W3sidHlwZSI6ImxvY2FsaXR5In0seyIxIjpbIlZpamF5IE5hZ2FyICwgSW5kb3JlIiwiQ0lUWV8xNDIsIExPQ0FMSVRZXzk0MzgsIFBSRUZFUkVOQ0VfUywgUkVTQ09NX1IiXX1d&texttypedtillsuggestion=indore&refine_results=Y&Refine_Localities=Refine%20Localities&action=%2Fdo%2Fquicksearch%2Fsearch&suggestion=CITY_142%2C%20LOCALITY_9438%2C%20PREFERENCE_S%2C%20RESCOM_R&searchform=1&locality=9438&price_min=null&price_max=null\"\n",
    "r = requests.get(URL) \n"
   ]
  },
  {
   "cell_type": "code",
   "execution_count": 36,
   "metadata": {},
   "outputs": [],
   "source": [
    "import requests \n",
    "from bs4 import BeautifulSoup \n",
    "import csv"
   ]
  },
  {
   "cell_type": "markdown",
   "metadata": {},
   "source": [
    "# Final"
   ]
  },
  {
   "cell_type": "code",
   "execution_count": 66,
   "metadata": {},
   "outputs": [],
   "source": [
    "import requests\n",
    "from bs4 import BeautifulSoup"
   ]
  },
  {
   "cell_type": "code",
   "execution_count": 67,
   "metadata": {},
   "outputs": [],
   "source": [
    "url='https://www.99acres.com/search/property/buy/residential-all/indore?search_type=QS&refSection=GNB&search_location=HP&lstAcn=HP_R&lstAcnId=0&src=CLUSTER&preference=S&selected_tab=1&city=142&res_com=R&property_type=R&isvoicesearch=N&keyword_suggest=Indore%3B&fullSelectedSuggestions=Indore&strEntityMap=W3sidHlwZSI6ImNpdHkifSx7IjEiOlsiSW5kb3JlIiwiQ0lUWV8xNDIsIFBSRUZFUkVOQ0VfUywgUkVTQ09NX1IiXX1d&texttypedtillsuggestion=indore&refine_results=Y&Refine_Localities=Refine%20Localities&action=%2Fdo%2Fquicksearch%2Fsearch&suggestion=CITY_142%2C%20PREFERENCE_S%2C%20RESCOM_R&searchform=1&price_min=null&price_max=null'"
   ]
  },
  {
   "cell_type": "code",
   "execution_count": 68,
   "metadata": {},
   "outputs": [],
   "source": [
    "header = {\n",
    "    'user again': 'Mozilla/5.0 (Windows NT 10.0; Win64; x64; rv:86.0) Gecko/20100101 Firefox/86.0'\n",
    "}"
   ]
  },
  {
   "cell_type": "code",
   "execution_count": 69,
   "metadata": {},
   "outputs": [],
   "source": [
    "r= requests.get('https://www.99acres.com/search/property/buy/residential-all/indore?search_type=QS&refSection=GNB&search_location=HP&lstAcn=HP_R&lstAcnId=0&src=CLUSTER&preference=S&selected_tab=1&city=142&res_com=R&property_type=R&isvoicesearch=N&keyword_suggest=Indore%3B&fullSelectedSuggestions=Indore&strEntityMap=W3sidHlwZSI6ImNpdHkifSx7IjEiOlsiSW5kb3JlIiwiQ0lUWV8xNDIsIFBSRUZFUkVOQ0VfUywgUkVTQ09NX1IiXX1d&texttypedtillsuggestion=indore&refine_results=Y&Refine_Localities=Refine%20Localities&action=%2Fdo%2Fquicksearch%2Fsearch&suggestion=CITY_142%2C%20PREFERENCE_S%2C%20RESCOM_R&searchform=1&price_min=null&price_max=null')"
   ]
  },
  {
   "cell_type": "code",
   "execution_count": 70,
   "metadata": {},
   "outputs": [],
   "source": [
    "soup = BeautifulSoup(r.content, 'lxml')"
   ]
  },
  {
   "cell_type": "code",
   "execution_count": 90,
   "metadata": {},
   "outputs": [],
   "source": [
    "productlist = soup.find_all('div', class_= 'srp_Tuple_TupleTable')"
   ]
  },
  {
   "cell_type": "code",
   "execution_count": 91,
   "metadata": {},
   "outputs": [
    {
     "name": "stdout",
     "output_type": "stream",
     "text": [
      "[]\n"
     ]
    }
   ],
   "source": [
    "print(productlist)"
   ]
  },
  {
   "cell_type": "code",
   "execution_count": 92,
   "metadata": {},
   "outputs": [],
   "source": [
    "links=[]"
   ]
  },
  {
   "cell_type": "code",
   "execution_count": 93,
   "metadata": {},
   "outputs": [],
   "source": [
    "for items in productlist:\n",
    "    for link in item.find_all('a', href=True):\n",
    "        links.append(url+link['href'])\n"
   ]
  },
  {
   "cell_type": "code",
   "execution_count": 94,
   "metadata": {},
   "outputs": [
    {
     "name": "stdout",
     "output_type": "stream",
     "text": [
      "0\n"
     ]
    }
   ],
   "source": [
    "print(len(links))"
   ]
  },
  {
   "cell_type": "code",
   "execution_count": 136,
   "metadata": {},
   "outputs": [
    {
     "name": "stdout",
     "output_type": "stream",
     "text": [
      "2 BHK Residential Apartment in Bijalpur\n",
      "4 BHK Residential Apartment in Bicholi Mardana\n",
      "2 BHK Residential Apartment in Pipaliyahana\n",
      "Residential land / Plot in AB Bypass Road\n",
      "3 BHK Residential Apartment in Bicholi Mardana\n",
      "2 BHK Residential Apartment in Ujjain Road\n",
      "3 BHK Residential Apartment in Rajendra Nagar\n",
      "1 BHK Residential Apartment in Rajendra Nagar\n",
      "Residential land / Plot in Mhow\n",
      "3 BHK Residential Apartment in Ujjain Road\n",
      "2 BHK Residential Apartment in Rajendra Nagar\n",
      "Residential land / Plot in AB Bypass Road\n",
      "2 BHK Residential Apartment in Nalanda Parisar\n",
      "4 BHK Residential Apartment in Nipania\n",
      "5 BHK Residential Apartment in Nipania\n",
      "5 Bedroom Independent House in AB Bypass Road\n",
      "3 BHK Residential Apartment in Nipania\n",
      "2 BHK Residential Apartment in Rajendra Nagar\n",
      "4 BHK Residential Apartment in Keshar Bagh\n",
      "3 BHK Residential Apartment in Rajendra Nagar\n",
      "3 BHK Residential Apartment in Bijalpur\n",
      "1 BHK Residential Apartment in Bijalpur\n",
      "2 BHK Residential Apartment in Sukhliya\n",
      "1 BHK Residential Apartment in Rajendra Nagar\n",
      "1 BHK Residential Apartment in Ujjain Road\n"
     ]
    }
   ],
   "source": [
    "def extract(page):\n",
    "    header = {\n",
    "    'user again': 'Mozilla/5.0 (Windows NT 10.0; Win64; x64; rv:86.0) Gecko/20100101 Firefox/86.0'\n",
    "}\n",
    "    url='https://www.99acres.com/search/property/buy/residential-all/indore?search_type=QS&refSection=GNB&search_location=HP&lstAcn=HP_R&lstAcnId=0&src=CLUSTER&preference=S&selected_tab=1&city=142&res_com=R&property_type=R&isvoicesearch=N&keyword_suggest=Indore%3B&fullSelectedSuggestions=Indore&strEntityMap=W3sidHlwZSI6ImNpdHkifSx7IjEiOlsiSW5kb3JlIiwiQ0lUWV8xNDIsIFBSRUZFUkVOQ0VfUywgUkVTQ09NX1IiXX1d&texttypedtillsuggestion=indore&refine_results=Y&Refine_Localities=Refine%20Localities&action=%2Fdo%2Fquicksearch%2Fsearch&suggestion=CITY_142%2C%20PREFERENCE_S%2C%20RESCOM_R&searchform=1&price_min=null&price_max=null'\n",
    "    r= requests.get(url,header)\n",
    "    soup = BeautifulSoup(r.content, 'lxml')\n",
    "    return soup\n",
    "\n",
    "def transform (soup):\n",
    "    divs = soup.find_all('div', class_='pageComponent srpTuple__srpTupleBox srp')\n",
    "    for item in divs:\n",
    "        title = item.find('a').text.strip()\n",
    "        price = item.find('td').text.strip()\n",
    "        print(price)\n",
    "        \n",
    "c = extract (0)\n",
    "transform(c)\n"
   ]
  },
  {
   "cell_type": "code",
   "execution_count": 140,
   "metadata": {},
   "outputs": [
    {
     "name": "stdout",
     "output_type": "stream",
     "text": [
      "₹ 66.81 Lac\n",
      "₹ 32.58 Lac₹ 2,200/sq.ft.\n",
      "₹ 36.5  - 36.5 Lac₹ 3,685/sq.ft.\n",
      "₹ 48 Lac - 2 Cr₹ 2,000/sq.ft.\n",
      "₹ 1.25  - 1.47 Cr₹ 4,300/sq.ft.\n",
      "₹ 90.3  - 99.07 Lac₹ 4,300/sq.ft.\n",
      "₹ 38.61  - 42.21 Lac₹ 3,040/sq.ft.\n",
      "₹ 51.77 Lac\n",
      "₹ 22.41 Lac\n",
      "₹ 14.04  - 31.59 Lac\n",
      "₹ 57 Lac₹ 3,229/sq.ft.\n",
      "₹ 32.54  - 38.39 Lac\n",
      "Price on Request\n",
      "₹ 82 Lac\n",
      "₹ 1.44  - 1.45 Cr₹ 4,100/sq.ft.\n",
      "₹ 2.03 Cr₹ 4,100/sq.ft.\n",
      "Price on Request\n",
      "₹ 75.32 Lac₹ 3,800/sq.ft.\n",
      "₹ 27  - 36.68 Lac₹ 2,950/sq.ft.\n",
      "Price on Request\n",
      "₹ 37.2 Lac₹ 2,992/sq.ft.\n",
      "₹ 35.5 Lac₹ 3,026/sq.ft.\n",
      "₹ 45.5 Lac₹ 2,948/sq.ft.\n",
      "₹ 21.5 Lac₹ 3,041/sq.ft.\n",
      "₹ 35 Lac₹ 3,553/sq.ft.\n"
     ]
    }
   ],
   "source": [
    "def extract(page):\n",
    "    header = {\n",
    "    'user again': 'Mozilla/5.0 (Windows NT 10.0; Win64; x64; rv:86.0) Gecko/20100101 Firefox/86.0'\n",
    "}\n",
    "    url='https://www.99acres.com/search/property/buy/residential-all/indore?search_type=QS&refSection=GNB&search_location=HP&lstAcn=HP_R&lstAcnId=0&src=CLUSTER&preference=S&selected_tab=1&city=142&res_com=R&property_type=R&isvoicesearch=N&keyword_suggest=Indore%3B&fullSelectedSuggestions=Indore&strEntityMap=W3sidHlwZSI6ImNpdHkifSx7IjEiOlsiSW5kb3JlIiwiQ0lUWV8xNDIsIFBSRUZFUkVOQ0VfUywgUkVTQ09NX1IiXX1d&texttypedtillsuggestion=indore&refine_results=Y&Refine_Localities=Refine%20Localities&action=%2Fdo%2Fquicksearch%2Fsearch&suggestion=CITY_142%2C%20PREFERENCE_S%2C%20RESCOM_R&searchform=1&price_min=null&price_max=null'\n",
    "    r= requests.get(url,header)\n",
    "    soup = BeautifulSoup(r.content, 'lxml')\n",
    "    return soup\n",
    "\n",
    "def transform (soup):\n",
    "    divs = soup.find_all('div', class_='pageComponent srpTuple__srpTupleBox srp')\n",
    "    for item in divs:\n",
    "        title = item.find('a').text.strip()\n",
    "        price = item.find('td', {'id': 'srp_tuple_price'}).text.strip()\n",
    "        \n",
    "c = extract (0)\n",
    "transform(c)"
   ]
  },
  {
   "cell_type": "code",
   "execution_count": 153,
   "metadata": {},
   "outputs": [
    {
     "name": "stdout",
     "output_type": "stream",
     "text": [
      "[{'title': '3 Bedroom Independent House in Super Corridor', 'price': '₹ 66.81 Lac', 'name': 'SHREE KATARIYA & ASSOCIATES', 'posting date': 'Posted on 15th Oct, 2020 by Dealer', 'area': '1,821 sq.ft. (169 sq.m.) Built-up Area', 'discription': 'The elite 27 by sarthak estate developers is a project which is one of its kinds. Located at super corridor in one of the most beautifully developed townships - Mahima smart city, it promises a life full of happiness.  Location highlights Airport - 4.3 km Railway station - 10.2 km Sports complex - 1.5 km Symbiosis & narsee monjee university - 00 km Pithampur industrial area - 30 km Aurobindo hospital - 8.2 km Vijay nagar square - 13.9 km Super corridor metro station'}, {'title': '4 BHK Residential Apartment in Bicholi Mardana', 'price': '₹ 1.25  - 1.47 Cr₹ 4,300/sq.ft.', 'name': 'MAZE BUILDCON PVT. LTD.', 'posting date': 'Posted on 29th Jan, 2021 by Builder', 'area': '2,900-3,422 sq.ft. (269-318 sq.m.) Super built-up Area', 'discription': 'Live in a world of comfort and style at The Residence, located in Bicholi Mardana, Indore. Book your 4 BHK apartment now. Sprawling across a super built-up area of 2900.0 sq. ft. - 3422.0 sq. ft., these are a ready to move apartments.These are available at a price range of Rs. 1.25 Crore to Rs. 1.47 Crore. All the towers have with aesthetically crafted interiors as well as exteriors. The project has the latest fire-fighting systems, an exclusive Theatre, Infinity Pool, Car Parking, Chess, Landscape Garden, etc.'}, {'title': '2 BHK Residential Apartment in Pipaliyahana', 'price': '₹ 36.5  - 36.5 Lac₹ 3,685/sq.ft.', 'name': 'Saify Construction Company', 'posting date': 'Posted on 23rd Dec, 2020 by Builder', 'area': '986-996 sq.ft. (92-93 sq.m.) Carpet Area', 'discription': 'Book your 2 BHK apartment in Pipaliyahana , Indore at a price ranging from Rs. 36.5 Lac to Rs. 36.5 Lac. The Signature Heights hosts exclusively designed 2 towers, each presenting an epitome of class and simplicity.The residential apartments have a carpet area of 986.0 sq. ft. to 996.0 sq. ft. and are an under construction. With an impressive layout and a comprehensive range of amenities, like Power Back up Lift, Gated Community, CCTV Camera Security, Landscape Garden, Club House, etc., the Signature Heights leaves no stone unturned to amaze.'}, {'title': 'Residential land / Plot in AB Bypass Road', 'price': '₹ 48 Lac - 2 Cr₹ 2,000/sq.ft.', 'name': 'Vishal Resorts & Hotels Pvt. Ltd.', 'posting date': 'Posted on 10th Feb, 2021 by Builder', 'area': '2,400-10,000 sq.ft. (223-929 sq.m.) Plot Area', 'discription': 'Ruchi lifescapes in jhalaria, indore by ruchi realty builders is a residential project. The project offers land, apartment and villa with perfect combination of contemporary architecture and features to provide comfortable living.  The land, apartment and villa are of the following configurations: 2bhk, 3bhk, 4bhk, 5bhk and 6bhk.  The size of the apartment ranges in between 94.11 sq. Mt and 133.87 sq. Mt  The area of the villa is from 175.96 sq. Mt to 390.56 sq. Mt  The size of the land is from 102.19 sq. Mt to 464.51 sq. Mt  Ruchi lifescapes price ranges from 18.15 lacs to 66.00 lacs.  Ruchi lifescapes offers facilities such as gymnasium.It also has amenities like basketball court, jogging track, lawn tennis court and swimming pool. The project has indoor activities such as pool table and squash court. It also offers services like garbage disposal.  It also offers car parking.  This is a rera registered project with registration number p-Ind-17-1024.  Bank loan approved from hdfc home loans, state bank of india, axis bank and lic housing finance ltd.  It is an under construction project with possession offered in dec, 2020.  The project is spread over a total area of 62.14 acres of land. An accommodation of 582 units has been provided.  Ruchi lifescapes brochure is also available for easy reference.  About city:  Indore has a number of infrastructure developments taking place and hence the real estate market is on an upswing. The presence of various commercial industries in the city is the sole reason of generating a number of jobs and attracting workforce. This has a good impact on the realty market. The residential real estate of the city has a mix of luxury, mid-Segment and affordable housing units. Talking about the commercial real estate of the city, it witnesses positivity in this segment also catering to demands generated here. In all, the market is positive and expected to grow positively in the coming time.'}, {'title': '3 BHK Residential Apartment in Bicholi Mardana', 'price': '₹ 90.3  - 99.07 Lac₹ 4,300/sq.ft.', 'name': 'MAZE BUILDCON PVT. LTD.', 'posting date': 'Posted on 29th Jan, 2021 by Builder', 'area': '2,100-2,304 sq.ft. (195-214 sq.m.) Super built-up Area', 'discription': 'Enjoy a blissful living experience in The Residence. This residential project encompasses\\xa03 BHK flats in Bicholi Mardana, Indore and brings you the best of both the worlds – excellent aesthetics and exemplary lifestyle.Its unique highlights include facilities like Infinity Pool, Laundromat, Community Hall, Landscape Garden, Lift(s) and many others. All of these and the other features make this project a true value for money. And you can now buy your exclusive 3 BHK flat in this project at a price of Rs. 90.3 Lac - Rs. 99.07 Lac. It has a super built-up area ranging from 2100.0 sq. ft. - 2304.0 sq. ft.'}, {'title': '2 BHK Residential Apartment in Ujjain Road', 'price': '₹ 38.61  - 42.21 Lac₹ 3,040/sq.ft.', 'name': 'KBG Life infra Pvt. Ltd', 'posting date': 'Posted on 26th Feb, 2021 by Builder', 'area': '1,270-1,388 sq.ft. (118-129 sq.m.) Super built-up Area', 'discription': 'The project offers 2 BHK apartments in Ujjain Road , Indore. These apartments have a super built-up area, ranging from 1270.0 sq. ft. to 1388.0 sq. ft. and are available at a price range starting from Rs. 38.61 Lac to Rs. 42.21 Lac.It is a new launch project, with 1 towers and features an array of facilities including a Security Cabin, Paved Compound, Landscape Garden, Yoga/Meditation Area, Library. Lifts are available too.'}, {'title': '3 BHK Residential Apartment in Rajendra Nagar', 'price': '₹ 51.77 Lac', 'name': 'KURM GROUP', 'posting date': 'Posted on 11th Mar, 2021 by Builder', 'area': '935 sq.ft. (87 sq.m.) Carpet Area', 'discription': \"Shree Radhe Green Park is a residential project, offering a range of 3 BHK flats in Rajendra Nagar, Indore. It hosts exclusively designed 3 towers, each presenting an epitome of class and simplicity. We bring you a chance to book your 3 BHK flat that has a carpet area of 935.0 sq. ft. It is a ready to move property. With an impressive layout and a comprehensive range of amenities like Car Parking, 24/7 Water Supply, Children's Play Area, Entrance Lobby, Club House, etc., the project leaves no stone unturned to amaze.\"}, {'title': '1 BHK Residential Apartment in Rajendra Nagar', 'price': '₹ 22.41 Lac', 'name': 'KURM GROUP', 'posting date': 'Posted on 11th Mar, 2021 by Builder', 'area': '447 sq.ft. (42 sq.m.) Carpet Area', 'discription': 'Shree Radhe Green Park is a ready to move project, offering a great 1 BHK flat in Rajendra Nagar, Indore. The unit has a carpet area of 447.0 sq. ft. and is available at a price of Rs. 22.41 Lac. Shree Radhe Green Park is well connected to the city areas and features a large number of amenities to fit your needs. It is equipped with highlights such as CCTV Camera Security, Power Back up Lift, Car Parking, 24x7 Security, Jogging Track, etc. that make it one of the most sought after neighborhoods.'}, {'title': 'Residential land / Plot in Mhow', 'price': '₹ 14.04  - 31.59 Lac', 'name': 'Raya Developers', 'posting date': 'Posted on 04th Mar, 2021 by Builder', 'area': '4,000-9,000 sq.ft. (372-836 sq.m.) Plot Area', 'discription': 'Raya estate is a residential development of raya developers located in mhow indore. It has farmhouse land options built with good amenities'}, {'title': '3 BHK Residential Apartment in Ujjain Road', 'price': '₹ 57 Lac₹ 3,229/sq.ft.', 'name': 'KBG Life infra Pvt. Ltd', 'posting date': 'Posted on 26th Feb, 2021 by Builder', 'area': '1,765 sq.ft. (164 sq.m.) Super built-up Area', 'discription': 'KBG Platinum is a new launch project, offering a great 3 BHK flat in Ujjain Road , Indore. The unit has a super built-up area of 1765.0 sq. ft. and is available at a price of Rs. 57 Lac. KBG Platinum is well connected to the city areas and features a large number of amenities to fit your needs. It is equipped with highlights such as Swimming Pool, Mini Theatre, Fountain, Landscape Garden, Party Lawn, etc. that make it one of the most sought after neighborhoods.'}, {'title': '2 BHK Residential Apartment in Rajendra Nagar', 'price': '₹ 32.54  - 38.39 Lac', 'name': 'KURM GROUP', 'posting date': 'Posted on 11th Mar, 2021 by Builder', 'area': '673-727 sq.ft. (63-68 sq.m.) Carpet Area', 'discription': \"Enjoy a blissful living experience in Shree Radhe Green Park. This residential project encompasses\\xa02 BHK flats in Rajendra Nagar, Indore and brings you the best of both the worlds – excellent aesthetics and exemplary lifestyle.Its unique highlights include facilities like Jogging Track, Rain Water Harvesting, Gymnasium, Children's Play Area, Gated Community and many others. All of these and the other features make this project a true value for money. And you can now buy your exclusive 2 BHK flat in this project at a price of Rs. 32.54 Lac - Rs. 38.39 Lac. It has a carpet area ranging from 673.0 sq. ft. - 727.0 sq. ft.\"}, {'title': 'Residential land / Plot in AB Bypass Road', 'price': 'Price on Request', 'name': 'Manthan Realty', 'posting date': 'Posted on 01st Mar, 2021 by RERA Registered Dealer', 'area': '800-7,000 sq.ft. (74-650 sq.m.) Plot Area', 'discription': 'Vistara township in ab bypass road, indore by suncity projects and dhoot group is a residential project. The project offers land, apartment and villa with perfect combination of contemporary architecture and features to provide comfortable living.  The land, apartment and villa are of the following configurations: 2bhk and 3bhk.  The size of the apartment ranges in between 113.71 sq. Mt and 213.21 sq. Mt  The size of the villa is 174.38 sq. Mt.  Vistara township price ranges from 28.00 lacs to 81.00 lacs.  Vistara township offers facilities such as gymnasium and lift.It also has amenity like swimming pool. It also offers services like community hall.  It also offers car parking.  The land,apartment,villa are vastu complaint.  Bank loan approved from hdfc home loans, icici bank, state bank of india, bank of baroda, bank of india, union bank of india, axis bank, lic housing finance ltd and pnb housing finance limited.  It is a ready to move project with possession offered in jan, 2012.  The project is spread over a total area of 200 acres of land. It has 25% of open space. Vistara township has a total of 1 towers. The construction is of 7 floors. An accommodation of 1019 units has been provided.  About city:  The real estate market of indore is on a positive trajectory. This beautiful city appeals to homebuyers interest and hence witnesses demands. To meet these, the developers in the city are coming up with new developments. Proximity from commercial hubs and easy connectivity are two major factors that add to the positivity of the realty market. Presence of excellent healthcare facilities and good educational institutions also add to this positivity.'}, {'title': '2 BHK Residential Apartment in Nalanda Parisar', 'price': '₹ 82 Lac', 'name': 'Narendra Gorani', 'posting date': 'Posted on 28th Dec, 2020 by Builder', 'area': '1,069 sq.ft. (99 sq.m.) Carpet Area', 'discription': \"There is a 2 BHK apartment in Nalanda Parisar, Indore for sale in Gorani D Ornate.  With a carpet area of 1069.0 sq. ft, the residential apartment is available at a price of Rs. 82 Lac. Gorani D Ornate is meticulously designed to bring you an awe-inspiring lifestyle and convenience.  It hosts a series of facilities like a Children's Play Area, Car Parking, Earthquake Resistant, Vastu Compliant, InterCom, etc. and all the other essential things to fulfill the residents’ everyday needs are located within. The project is equipped with the most necessary safety and security features. Each tower has a CCTV surveillance and fire prevention systems in place.\"}, {'title': '4 BHK Residential Apartment in Nipania', 'price': '₹ 1.44  - 1.45 Cr₹ 4,100/sq.ft.', 'name': 'DIVYA DEV DEVELOPERS PRIVATE LIMITED', 'posting date': 'Posted on 01st Feb, 2021 by Builder', 'area': '3,514-3,541 sq.ft. (326-329 sq.m.) Super built-up Area', 'discription': \"Apollo DB City is a ready to move project, offering 4 BHK flats in Nipania, Indore. These flats have a super built-up area in the range of 3514.0 sq. ft. to 3541.0 sq. ft. and are available at an economical price of Rs. 1.44 Crore - Rs. 1.45 Crore.It is well connected to the city areas and features a large number of amenities to fit your needs. It is equipped with highlights such as Children's Play Area, Vastu Compliant, Squash Court, Salon, Jogging Track, etc. that make it one of the most sought after neighborhoods.\"}, {'title': '5 BHK Residential Apartment in Nipania', 'price': '₹ 2.03 Cr₹ 4,100/sq.ft.', 'name': 'DIVYA DEV DEVELOPERS PRIVATE LIMITED', 'posting date': 'Posted on 01st Feb, 2021 by Builder', 'area': '4,963 sq.ft. (461 sq.m.) Super built-up Area', 'discription': 'Let your dream of owning a flat come true with Apollo DB City. It offers an exclusive range of 5 BHK flats in Nipania, Indore. We bring you an amazing deal of a 5 BHK that is currently available at price of Rs. 2.03 Crore and has a super built-up area of 4963.0 sq. ft. Apollo DB City is a secured gated community that further has 24x7 security systems. It has round the clock power back up as well as features many more attractive facilities with a host of amenities like Entrance Lobby, Paved Compound, Aerobics Centre, Swimming Pool, Gymnasium, etc.'}, {'title': '5 Bedroom Independent House in AB Bypass Road', 'price': 'Price on Request', 'name': 'nivesh ventures', 'posting date': 'Posted on 08th Feb, 2021 by Dealer', 'area': '1,875-2,130 sq.ft. (174-198 sq.m.) Built-up Area', 'discription': 'Dlf gardencity in ab bypass road, indore by dlf builders is a residential project. The project offers apartment, land and villa with perfect combination of contemporary architecture and features to provide comfortable living.  The apartment, land and villa are of the following configurations: 4bhk. The size of the apartment is 200.67 sq. Mt.  The area of the villa is from 111.02 sq. Mt to 174.01 sq. Mt  The size of the land is from 117.06 sq. Mt to 371.79 sq. Mt  Dlf gardencity price ranges from 17.00 lacs to 80.00 lacs.  Dlf gardencity offers facilities such as gymnasium.It also has amenities like badminton court, jogging track, lawn tennis court and swimming pool. It also offers services like banquet hall and library.  It also offers car parking.  Bank loan approved from hdfc home loans, icici bank, state bank of india, axis bank, lic housing finance ltd and indiabulls.  It is a ready to move project.  The project is spread over a total area of 192 acres of land. The construction is of 2 floors. You can find dlf gardencity price list on 99acres.Com. Dlf gardencity brochure is also available for easy reference.  About city:  Indore has a number of infrastructure developments taking place and hence the real estate market is on an upswing. The presence of various commercial industries in the city is the sole reason of generating a number of jobs and attracting workforce. This has a good impact on the realty market. The residential real estate of the city has a mix of luxury, mid-Segment and affordable housing units. Talking about the commercial real estate of the city, it witnesses positivity in this segment also catering to demands generated here. In all, the market is positive and expected to grow positively in the coming time.'}, {'title': '3 BHK Residential Apartment in Nipania', 'price': '₹ 75.32 Lac₹ 3,800/sq.ft.', 'name': 'DIVYA DEV DEVELOPERS PRIVATE LIMITED', 'posting date': 'Posted on 01st Feb, 2021 by Builder', 'area': '1,982 sq.ft. (184 sq.m.) Super built-up Area', 'discription': 'Book a spectacular property in Apollo DB City that brings 3 BHK apartments in Nipania, Indore. We have a 3 BHK apartment with a super built-up area of 1982.0 sq. ft., available at an economical price of Rs. 75.32 Lac.A close attention has been paid to each detail for a comfortable living. There are 9 towers in Apollo DB City. Further, you can stay assured of CCTV Camera Security, Jogging Track, Landscape Garden, Paved Compound, Restaurant, etc. Loaded with all the modern amenities, the project is certainly a steal deal.'}, {'title': '2 BHK Residential Apartment in Rajendra Nagar', 'price': '₹ 27  - 36.68 Lac₹ 2,950/sq.ft.', 'name': 'Shrida Developers', 'posting date': 'Posted on 21st Dec, 2020 by Builder', 'area': '915-1,243 sq.ft. (85-115 sq.m.) Super built-up Area', 'discription': 'Shrida Residency offers 2 BHK apartments in Rajendra Nagar, Indore, at an affordable price range of Rs. 27 Lac to Rs. 36.68 Lac.These are an under construction apartments spreading across a super built-up area of 915.0 sq. ft. - 1243.0 sq. ft. There are a total of 1 towers in the project. The project offers inclusion of essential amenities like Rain Water Harvesting, Gymnasium, 24/7 Water Supply, Landscape Garden, 24/7 Power Backup, etc. Its aesthetics too is tastefully done to suit to your urbane living needs and promises to offer an easy living within budget.'}, {'title': '4 BHK Residential Apartment in Keshar Bagh', 'price': 'Price on Request', 'name': 'Akruti Developers', 'posting date': 'Posted on 23rd Jan, 2021 by Builder', 'area': '2,372-2,628 sq.ft. (220-244 sq.m.) Super built-up Area', 'discription': \"Make Akruti Lal Bagh Life your next home. This project offers 4 BHK flats in Keshar Bagh, Indore. With a super built-up area ranging from 2372.0 sq. ft. to 2628.0 sq. ft., these flats combine the finest design and amenities in Indore to provide a living experience unlike any other.It is an under construction project and is unique in its perfect harmony of classic form and modern construction. The features and the amenities like Gated Community, Car Parking, Children's Play Area, Senior Citizen Sitout, CCTV Camera Security and many more make this residential project an epitome of modern living. Further, the society is well connected with all means of public transport. The price is available on request.\"}, {'title': '3 BHK Residential Apartment in Rajendra Nagar', 'price': '₹ 37.2 Lac₹ 2,992/sq.ft.', 'name': 'Shrida Developers', 'posting date': 'Posted on 21st Dec, 2020 by Builder', 'area': '1,243 sq.ft. (115 sq.m.) Super built-up Area', 'discription': 'Shrida Residency is an under construction project, offering a great 3 BHK flat in Rajendra Nagar, Indore. The unit has a super built-up area of 1243.0 sq. ft. and is available at a price of Rs. 37.2 Lac. Shrida Residency is well connected to the city areas and features a large number of amenities to fit your needs. It is equipped with highlights such as Fire Fighting Systems, Lift(s), 24/7 Power Backup, 24x7 Security, 24/7 Water Supply, etc. that make it one of the most sought after neighborhoods.'}, {'title': '2 BHK Residential Apartment in Bijalpur', 'price': '₹ 35.5 Lac₹ 3,026/sq.ft.', 'name': 'Shri Sai Buildcon', 'posting date': 'Posted on 10th Mar, 2021 by Builder', 'area': '1,173 sq.ft. (109 sq.m.) Super built-up Area', 'discription': \"Experience a new style of living with Shri Sai Century Park. It offers an exclusive range of 2 BHK apartments in Bijalpur, Indore. Here is a steal deal for you. Book your 2 BHK apartment here at a never before price of Rs. 35.5 Lac. The unit has a super built-up area of 1173.0 sq. ft. This is a ready to move project. It has been designed keeping every small to large needs of residents in consideration. Plus, a comprehensive range of amenities including Car Parking, 24/7 Water Supply, Children's Play Area, 24/7 Power Backup, Club House, etc. make it one of the most desirable residential projects in Indore.\"}, {'title': '3 BHK Residential Apartment in Bijalpur', 'price': '₹ 45.5 Lac₹ 2,948/sq.ft.', 'name': 'Shri Sai Buildcon', 'posting date': 'Posted on 10th Mar, 2021 by Builder', 'area': '1,543 sq.ft. (143 sq.m.) Super built-up Area', 'discription': 'Shri Sai Century Park offers 3 BHK flats in Bijalpur, Indore. These are a ready to move flats. There are a total of 5 towers in the project. The project is a nicely designed and offers an excellent infrastructure to the residents. It spreads across a super built-up area of 1543.0 sq. ft. You can now get it for Rs. 45.5 Lac. Shri Sai Century Park offers inclusion of essential amenities like Gymnasium, Lift(s), Club House, Property Staff, 24/7 Water Supply, etc. The aesthetics too are tastefully done to suit to your urbane living needs and promises to offer an easy living within budget.'}, {'title': '1 BHK Residential Apartment in Bijalpur', 'price': '₹ 21.5 Lac₹ 3,041/sq.ft.', 'name': 'Shri Sai Buildcon', 'posting date': 'Posted on 10th Mar, 2021 by Builder', 'area': '707 sq.ft. (66 sq.m.) Super built-up Area', 'discription': \"Shri Sai Century Park is a residential project, offering a range of 1 BHK flats in Bijalpur, Indore. It hosts exclusively designed 5 towers, each presenting an epitome of class and simplicity. We bring you a chance to book your 1 BHK flat that has a super built-up area of 707.0 sq. ft. It is a ready to move property. With an impressive layout and a comprehensive range of amenities like Gymnasium, Club House, Property Staff, Children's Play Area, 24/7 Water Supply, etc., the project leaves no stone unturned to amaze.\"}, {'title': '2 BHK Residential Apartment in Sukhliya', 'price': '₹ 35 Lac₹ 3,553/sq.ft.', 'name': 'CORAL INFRASTRUCTURES PVT.LTD. (Mirchandani Group)', 'posting date': 'Posted on 16th Jan, 2021 by Builder', 'area': '985 sq.ft. (92 sq.m.) Super built-up Area', 'discription': 'Book your 2 BHK flat in Sukhliya, Indore with Mirchandani Shalimar Swayam. It has a super built-up area of 985.0 sq. ft. and is available at a price of Rs. 35 Lac.It is a ready to move property. Mirchandani Shalimar Swayam has features an array of facilities including a Landscape Garden, Garbage Disposal, Senior Citizen Sitout, Basketball Court and Sewage Treatment Plant. Lifts are available too.'}, {'title': '1 BHK Residential Apartment in Rajendra Nagar', 'price': '₹ 18 Lac₹ 2,830/sq.ft.', 'name': 'Shrida Developers', 'posting date': 'Posted on 21st Dec, 2020 by Builder', 'area': '636 sq.ft. (59 sq.m.) Super built-up Area', 'discription': 'Let your dream of owning a flat come true with Shrida Residency. It offers an exclusive range of 1 BHK flats in Rajendra Nagar, Indore. We bring you an amazing deal of a 1 BHK that is currently available at price of Rs. 18 Lac and has a super built-up area of 636.0 sq. ft. Shrida Residency is a secured gated community that further has 24x7 security systems. It has round the clock power back up as well as features many more attractive facilities with a host of amenities like 24x7 Security, CCTV Camera Security, Landscape Garden, Entrance Lobby, Gymnasium, etc.'}]\n"
     ]
    }
   ],
   "source": [
    "def extract(page):\n",
    "    header = {\n",
    "    'user again': 'Mozilla/5.0 (Windows NT 10.0; Win64; x64; rv:86.0) Gecko/20100101 Firefox/86.0'\n",
    "}\n",
    "    url='https://www.99acres.com/search/property/buy/residential-all/indore?search_type=QS&refSection=GNB&search_location=HP&lstAcn=HP_R&lstAcnId=0&src=CLUSTER&preference=S&selected_tab=1&city=142&res_com=R&property_type=R&isvoicesearch=N&keyword_suggest=Indore%3B&fullSelectedSuggestions=Indore&strEntityMap=W3sidHlwZSI6ImNpdHkifSx7IjEiOlsiSW5kb3JlIiwiQ0lUWV8xNDIsIFBSRUZFUkVOQ0VfUywgUkVTQ09NX1IiXX1d&texttypedtillsuggestion=indore&refine_results=Y&Refine_Localities=Refine%20Localities&action=%2Fdo%2Fquicksearch%2Fsearch&suggestion=CITY_142%2C%20PREFERENCE_S%2C%20RESCOM_R&searchform=1&price_min=null&price_max=null'\n",
    "    r= requests.get(url,header)\n",
    "    soup = BeautifulSoup(r.content, 'lxml')\n",
    "    return soup\n",
    "\n",
    "def transform (soup):\n",
    "    divs = soup.find_all('div', class_='pageComponent srpTuple__srpTupleBox srp')\n",
    "    for item in divs:\n",
    "        title = item.find('a').text.strip()\n",
    "        price = item.find('td', {'id': 'srp_tuple_price'}).text.strip()\n",
    "        name = item.find('div', class_='list_header_semiBold').text.strip()\n",
    "        posting = item.find('div',class_='caption_strong_small').text.strip()\n",
    "        area = item.find('td', {'id': 'srp_tuple_primary_area'}).text.strip()\n",
    "        summary = item.find('div', {'id': 'srp_tuple_description'}).text.strip().replace('\\n','')\n",
    "        home = {\n",
    "            'title':title,\n",
    "            'price':price,\n",
    "            'name':name,\n",
    "            'posting date':posting,\n",
    "            'area':area,\n",
    "            'discription': summary\n",
    "        }\n",
    "        homelist.append(home)\n",
    "    return \n",
    "        \n",
    "homelist=[]        \n",
    "    \n",
    "c = extract (0)\n",
    "transform(c)\n",
    "print(homelist)"
   ]
  },
  {
   "cell_type": "code",
   "execution_count": 154,
   "metadata": {},
   "outputs": [],
   "source": [
    "import pandas as pd"
   ]
  },
  {
   "cell_type": "code",
   "execution_count": 155,
   "metadata": {},
   "outputs": [
    {
     "name": "stdout",
     "output_type": "stream",
     "text": [
      "                                            title  \\\n",
      "0   3 Bedroom Independent House in Super Corridor   \n",
      "1  4 BHK Residential Apartment in Bicholi Mardana   \n",
      "2     2 BHK Residential Apartment in Pipaliyahana   \n",
      "3       Residential land / Plot in AB Bypass Road   \n",
      "4  3 BHK Residential Apartment in Bicholi Mardana   \n",
      "\n",
      "                               price                               name  \\\n",
      "0                        ₹ 66.81 Lac        SHREE KATARIYA & ASSOCIATES   \n",
      "1    ₹ 1.25  - 1.47 Cr₹ 4,300/sq.ft.            MAZE BUILDCON PVT. LTD.   \n",
      "2   ₹ 36.5  - 36.5 Lac₹ 3,685/sq.ft.         Saify Construction Company   \n",
      "3      ₹ 48 Lac - 2 Cr₹ 2,000/sq.ft.  Vishal Resorts & Hotels Pvt. Ltd.   \n",
      "4  ₹ 90.3  - 99.07 Lac₹ 4,300/sq.ft.            MAZE BUILDCON PVT. LTD.   \n",
      "\n",
      "                          posting date  \\\n",
      "0   Posted on 15th Oct, 2020 by Dealer   \n",
      "1  Posted on 29th Jan, 2021 by Builder   \n",
      "2  Posted on 23rd Dec, 2020 by Builder   \n",
      "3  Posted on 10th Feb, 2021 by Builder   \n",
      "4  Posted on 29th Jan, 2021 by Builder   \n",
      "\n",
      "                                                area  \\\n",
      "0             1,821 sq.ft. (169 sq.m.) Built-up Area   \n",
      "1  2,900-3,422 sq.ft. (269-318 sq.m.) Super built...   \n",
      "2           986-996 sq.ft. (92-93 sq.m.) Carpet Area   \n",
      "3      2,400-10,000 sq.ft. (223-929 sq.m.) Plot Area   \n",
      "4  2,100-2,304 sq.ft. (195-214 sq.m.) Super built...   \n",
      "\n",
      "                                         discription  \n",
      "0  The elite 27 by sarthak estate developers is a...  \n",
      "1  Live in a world of comfort and style at The Re...  \n",
      "2  Book your 2 BHK apartment in Pipaliyahana , In...  \n",
      "3  Ruchi lifescapes in jhalaria, indore by ruchi ...  \n",
      "4  Enjoy a blissful living experience in The Resi...  \n"
     ]
    }
   ],
   "source": [
    "df=pd.DataFrame(homelist)\n",
    "print(df.head())    "
   ]
  },
  {
   "cell_type": "code",
   "execution_count": 156,
   "metadata": {},
   "outputs": [],
   "source": [
    "df.to_csv(r'G:\\Youtube\\home.csv', index = False)"
   ]
  }
 ],
 "metadata": {
  "kernelspec": {
   "display_name": "Python 3",
   "language": "python",
   "name": "python3"
  },
  "language_info": {
   "codemirror_mode": {
    "name": "ipython",
    "version": 3
   },
   "file_extension": ".py",
   "mimetype": "text/x-python",
   "name": "python",
   "nbconvert_exporter": "python",
   "pygments_lexer": "ipython3",
   "version": "3.7.4"
  }
 },
 "nbformat": 4,
 "nbformat_minor": 2
}
